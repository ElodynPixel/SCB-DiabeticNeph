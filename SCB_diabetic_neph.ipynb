{
  "nbformat": 4,
  "nbformat_minor": 0,
  "metadata": {
    "colab": {
      "name": "SCB-diabetic neph.ipynb",
      "provenance": [],
      "collapsed_sections": [],
      "authorship_tag": "ABX9TyN0RURUylXhWe6SWj9eE/FL",
      "include_colab_link": true
    },
    "kernelspec": {
      "name": "python3",
      "display_name": "Python 3"
    },
    "language_info": {
      "name": "python"
    }
  },
  "cells": [
    {
      "cell_type": "markdown",
      "metadata": {
        "id": "view-in-github",
        "colab_type": "text"
      },
      "source": [
        "<a href=\"https://colab.research.google.com/github/ElodynPixel/SmartHealthChatBot-Diabetic_Nephropathy/blob/main/SCB_diabetic_neph.ipynb\" target=\"_parent\"><img src=\"https://colab.research.google.com/assets/colab-badge.svg\" alt=\"Open In Colab\"/></a>"
      ]
    },
    {
      "cell_type": "code",
      "metadata": {
        "id": "RqPwH4EW7bmJ"
      },
      "source": [
        "# Description: A Smart Chatbot to learn more about Diabetic nephropathy"
      ],
      "execution_count": null,
      "outputs": []
    },
    {
      "cell_type": "code",
      "metadata": {
        "id": "uyPpDacH73li",
        "colab": {
          "base_uri": "https://localhost:8080/"
        },
        "outputId": "23ff2c1f-5469-4259-d7cb-6d77be5e2fac"
      },
      "source": [
        "pip install nltk"
      ],
      "execution_count": 3,
      "outputs": [
        {
          "output_type": "stream",
          "text": [
            "Requirement already satisfied: nltk in /usr/local/lib/python3.7/dist-packages (3.2.5)\n",
            "Requirement already satisfied: six in /usr/local/lib/python3.7/dist-packages (from nltk) (1.15.0)\n"
          ],
          "name": "stdout"
        }
      ]
    },
    {
      "cell_type": "code",
      "metadata": {
        "id": "4fh3i0HDQxv8",
        "colab": {
          "base_uri": "https://localhost:8080/"
        },
        "outputId": "3d995250-d27f-4a07-d3e4-6b2adb09a2dc"
      },
      "source": [
        "pip install newspaper3k"
      ],
      "execution_count": 4,
      "outputs": [
        {
          "output_type": "stream",
          "text": [
            "Collecting newspaper3k\n",
            "\u001b[?25l  Downloading https://files.pythonhosted.org/packages/d7/b9/51afecb35bb61b188a4b44868001de348a0e8134b4dfa00ffc191567c4b9/newspaper3k-0.2.8-py3-none-any.whl (211kB)\n",
            "\u001b[K     |████████████████████████████████| 215kB 3.7MB/s \n",
            "\u001b[?25hCollecting cssselect>=0.9.2\n",
            "  Downloading https://files.pythonhosted.org/packages/3b/d4/3b5c17f00cce85b9a1e6f91096e1cc8e8ede2e1be8e96b87ce1ed09e92c5/cssselect-1.1.0-py2.py3-none-any.whl\n",
            "Requirement already satisfied: python-dateutil>=2.5.3 in /usr/local/lib/python3.7/dist-packages (from newspaper3k) (2.8.1)\n",
            "Requirement already satisfied: Pillow>=3.3.0 in /usr/local/lib/python3.7/dist-packages (from newspaper3k) (7.1.2)\n",
            "Requirement already satisfied: PyYAML>=3.11 in /usr/local/lib/python3.7/dist-packages (from newspaper3k) (3.13)\n",
            "Requirement already satisfied: nltk>=3.2.1 in /usr/local/lib/python3.7/dist-packages (from newspaper3k) (3.2.5)\n",
            "Collecting feedparser>=5.2.1\n",
            "\u001b[?25l  Downloading https://files.pythonhosted.org/packages/1c/21/faf1bac028662cc8adb2b5ef7a6f3999a765baa2835331df365289b0ca56/feedparser-6.0.2-py3-none-any.whl (80kB)\n",
            "\u001b[K     |████████████████████████████████| 81kB 3.1MB/s \n",
            "\u001b[?25hCollecting tldextract>=2.0.1\n",
            "\u001b[?25l  Downloading https://files.pythonhosted.org/packages/7e/62/b6acd3129c5615b9860e670df07fd55b76175b63e6b7f68282c7cad38e9e/tldextract-3.1.0-py2.py3-none-any.whl (87kB)\n",
            "\u001b[K     |████████████████████████████████| 92kB 3.5MB/s \n",
            "\u001b[?25hCollecting feedfinder2>=0.0.4\n",
            "  Downloading https://files.pythonhosted.org/packages/35/82/1251fefec3bb4b03fd966c7e7f7a41c9fc2bb00d823a34c13f847fd61406/feedfinder2-0.0.4.tar.gz\n",
            "Collecting jieba3k>=0.35.1\n",
            "\u001b[?25l  Downloading https://files.pythonhosted.org/packages/a9/cb/2c8332bcdc14d33b0bedd18ae0a4981a069c3513e445120da3c3f23a8aaa/jieba3k-0.35.1.zip (7.4MB)\n",
            "\u001b[K     |████████████████████████████████| 7.4MB 4.0MB/s \n",
            "\u001b[?25hRequirement already satisfied: beautifulsoup4>=4.4.1 in /usr/local/lib/python3.7/dist-packages (from newspaper3k) (4.6.3)\n",
            "Collecting tinysegmenter==0.3\n",
            "  Downloading https://files.pythonhosted.org/packages/17/82/86982e4b6d16e4febc79c2a1d68ee3b707e8a020c5d2bc4af8052d0f136a/tinysegmenter-0.3.tar.gz\n",
            "Requirement already satisfied: lxml>=3.6.0 in /usr/local/lib/python3.7/dist-packages (from newspaper3k) (4.2.6)\n",
            "Requirement already satisfied: requests>=2.10.0 in /usr/local/lib/python3.7/dist-packages (from newspaper3k) (2.23.0)\n",
            "Requirement already satisfied: six>=1.5 in /usr/local/lib/python3.7/dist-packages (from python-dateutil>=2.5.3->newspaper3k) (1.15.0)\n",
            "Collecting sgmllib3k\n",
            "  Downloading https://files.pythonhosted.org/packages/9e/bd/3704a8c3e0942d711c1299ebf7b9091930adae6675d7c8f476a7ce48653c/sgmllib3k-1.0.0.tar.gz\n",
            "Requirement already satisfied: idna in /usr/local/lib/python3.7/dist-packages (from tldextract>=2.0.1->newspaper3k) (2.10)\n",
            "Collecting requests-file>=1.4\n",
            "  Downloading https://files.pythonhosted.org/packages/77/86/cdb5e8eaed90796aa83a6d9f75cfbd37af553c47a291cd47bc410ef9bdb2/requests_file-1.5.1-py2.py3-none-any.whl\n",
            "Requirement already satisfied: filelock>=3.0.8 in /usr/local/lib/python3.7/dist-packages (from tldextract>=2.0.1->newspaper3k) (3.0.12)\n",
            "Requirement already satisfied: urllib3!=1.25.0,!=1.25.1,<1.26,>=1.21.1 in /usr/local/lib/python3.7/dist-packages (from requests>=2.10.0->newspaper3k) (1.24.3)\n",
            "Requirement already satisfied: chardet<4,>=3.0.2 in /usr/local/lib/python3.7/dist-packages (from requests>=2.10.0->newspaper3k) (3.0.4)\n",
            "Requirement already satisfied: certifi>=2017.4.17 in /usr/local/lib/python3.7/dist-packages (from requests>=2.10.0->newspaper3k) (2020.12.5)\n",
            "Building wheels for collected packages: feedfinder2, jieba3k, tinysegmenter, sgmllib3k\n",
            "  Building wheel for feedfinder2 (setup.py) ... \u001b[?25l\u001b[?25hdone\n",
            "  Created wheel for feedfinder2: filename=feedfinder2-0.0.4-cp37-none-any.whl size=3358 sha256=17f05b5a29eb4c4fef2fd0db2a962c372fcd17485eba2cdb146fc6ad9e90cc5f\n",
            "  Stored in directory: /root/.cache/pip/wheels/de/03/ca/778e3a7a627e3d98836cc890e7cb40c7575424cfd3340f40ed\n",
            "  Building wheel for jieba3k (setup.py) ... \u001b[?25l\u001b[?25hdone\n",
            "  Created wheel for jieba3k: filename=jieba3k-0.35.1-cp37-none-any.whl size=7398406 sha256=cf49689ffc7d4820193de0f2993bbbb7424384e2b5c6ea79c913c1c20a07fcce\n",
            "  Stored in directory: /root/.cache/pip/wheels/83/15/9c/a3f1f67e7f7181170ad37d32e503c35da20627c013f438ed34\n",
            "  Building wheel for tinysegmenter (setup.py) ... \u001b[?25l\u001b[?25hdone\n",
            "  Created wheel for tinysegmenter: filename=tinysegmenter-0.3-cp37-none-any.whl size=13538 sha256=0131f209c3410560688f8017452c50551a18997723eb1db9678b62196c526d86\n",
            "  Stored in directory: /root/.cache/pip/wheels/81/2b/43/a02ede72324dd40cdd7ca53aad718c7710628e91b8b0dc0f02\n",
            "  Building wheel for sgmllib3k (setup.py) ... \u001b[?25l\u001b[?25hdone\n",
            "  Created wheel for sgmllib3k: filename=sgmllib3k-1.0.0-cp37-none-any.whl size=6067 sha256=185f631f4348515d49722b559b31ef4efd48797495120da87ff31e26a735dd02\n",
            "  Stored in directory: /root/.cache/pip/wheels/f1/80/5a/444ba08a550cdd241bd9baf8bae44be750efe370adb944506a\n",
            "Successfully built feedfinder2 jieba3k tinysegmenter sgmllib3k\n",
            "Installing collected packages: cssselect, sgmllib3k, feedparser, requests-file, tldextract, feedfinder2, jieba3k, tinysegmenter, newspaper3k\n",
            "Successfully installed cssselect-1.1.0 feedfinder2-0.0.4 feedparser-6.0.2 jieba3k-0.35.1 newspaper3k-0.2.8 requests-file-1.5.1 sgmllib3k-1.0.0 tinysegmenter-0.3 tldextract-3.1.0\n"
          ],
          "name": "stdout"
        }
      ]
    },
    {
      "cell_type": "code",
      "metadata": {
        "id": "HBDaGzy3Q-Vr"
      },
      "source": [
        "# Importing all the libraries that are necessary\n",
        "from newspaper import Article\n",
        "import random\n",
        "import string\n",
        "import nltk\n",
        "from sklearn.feature_extraction.text import CountVectorizer\n",
        "from sklearn.metrics.pairwise import cosine_similarity\n",
        "import numpy as np\n",
        "import warnings\n",
        "warnings.filterwarnings('ignore')"
      ],
      "execution_count": 5,
      "outputs": []
    },
    {
      "cell_type": "code",
      "metadata": {
        "colab": {
          "base_uri": "https://localhost:8080/"
        },
        "id": "2PjRurjWRCYb",
        "outputId": "4eb254a0-86ed-4470-9027-bff8379bc8b4"
      },
      "source": [
        "#Download a punkt package\n",
        "nltk.download('punkt', quiet=True)\n"
      ],
      "execution_count": 6,
      "outputs": [
        {
          "output_type": "execute_result",
          "data": {
            "text/plain": [
              "True"
            ]
          },
          "metadata": {
            "tags": []
          },
          "execution_count": 6
        }
      ]
    },
    {
      "cell_type": "code",
      "metadata": {
        "id": "K7-vqC8HmsQ0"
      },
      "source": [
        "article = Article('https://www.mayoclinic.org/diseases-conditions/diabetic-nephropathy/symptoms-causes/syc-20354556')\n",
        "article.download()\n",
        "article.parse()\n",
        "article.nlp()\n",
        "corpus = article.text\n"
      ],
      "execution_count": 7,
      "outputs": []
    },
    {
      "cell_type": "code",
      "metadata": {
        "id": "sp5zo6yDoENc",
        "colab": {
          "base_uri": "https://localhost:8080/"
        },
        "outputId": "f7629d35-5011-438a-e194-cb4d40656efb"
      },
      "source": [
        "print(corpus)"
      ],
      "execution_count": 8,
      "outputs": [
        {
          "output_type": "stream",
          "text": [
            "Overview\n",
            "\n",
            "Diabetic nephropathy is a serious kidney-related complication of type 1 diabetes and type 2 diabetes. It is also called diabetic kidney disease. About 25% of people with diabetes eventually develop kidney disease.\n",
            "\n",
            "Diabetic nephropathy affects your kidneys' ability to do their usual work of removing waste products and extra fluid from your body. The best way to prevent or delay diabetic nephropathy is by maintaining a healthy lifestyle and treating your diabetes and high blood pressure.\n",
            "\n",
            "Over many years, the condition slowly damages your kidneys' delicate filtering system. Early treatment may prevent or slow the disease's progress and reduce the chance of complications.\n",
            "\n",
            "Your kidney disease may progress to kidney failure, also called end-stage kidney disease. Kidney failure is a life-threatening condition. At this stage your treatment options are dialysis or a kidney transplant.\n",
            "\n",
            "How kidneys work\n",
            "\n",
            "Symptoms\n",
            "\n",
            "In the early stages of diabetic nephropathy, you may not notice any signs or symptoms. In later stages, the signs and symptoms include:\n",
            "\n",
            "Worsening blood pressure control\n",
            "\n",
            "Protein in the urine\n",
            "\n",
            "Swelling of feet, ankles, hands or eyes\n",
            "\n",
            "Increased need to urinate\n",
            "\n",
            "Reduced need for insulin or diabetes medicine\n",
            "\n",
            "Confusion or difficulty concentrating\n",
            "\n",
            "Shortness of breath\n",
            "\n",
            "Loss of appetite\n",
            "\n",
            "Nausea and vomiting\n",
            "\n",
            "Persistent itching\n",
            "\n",
            "Fatigue\n",
            "\n",
            "When to see a doctor\n",
            "\n",
            "Make an appointment with your doctor if you have any signs or symptoms of kidney disease.\n",
            "\n",
            "If you have diabetes, visit your doctor yearly for a urine test that detects protein and a test to check the creatinine level in your blood. These help determine how well the kidneys are functioning.\n",
            "\n",
            "Causes\n",
            "\n",
            "Diabetic nephropathy results when diabetes damages blood vessels and other cells in your kidneys.\n",
            "\n",
            "How the kidneys work\n",
            "\n",
            "Normal kidney vs. diseased kidney Open pop-up dialog box Close Normal kidney vs. diseased kidney Normal kidney vs. diseased kidney A normal kidney has about 1 million filtering units. Each unit, called a glomerulus, connects to a tubule, which collects urine. Conditions such as high blood pressure and diabetes take a toll on kidney function by damaging these filtering units and collecting tubules and causing scarring.\n",
            "\n",
            "Kidney cross section Open pop-up dialog box Close Kidney cross section Kidney cross section Blood enters your kidneys through your renal arteries. Your kidneys remove excess fluid and waste material from your blood through units called nephrons. Each nephron contains a filter (glomerulus) that has a network of tiny blood vessels called capillaries. The glomeruli filter waste products and substances your body needs — such as sodium, phosphorus and potassium — which then pass through tiny tubules. The substances your body needs are reabsorbed into your bloodstream. The waste products flow through the ureters — the tubes that lead to the bladder.\n",
            "\n",
            "Your kidneys contain millions of tiny blood vessel clusters (glomeruli) that filter waste from your blood. Severe damage to these blood vessels can lead to diabetic nephropathy, decreased kidney function and kidney failure.\n",
            "\n",
            "Diabetic nephropathy causes\n",
            "\n",
            "Diabetic nephropathy is a common complication of type 1 and type 2 diabetes.\n",
            "\n",
            "Over time, poorly controlled diabetes can cause damage to blood vessel clusters in your kidneys that filter waste from your blood. This can lead to kidney damage and cause high blood pressure. High blood pressure can cause further kidney damage by increasing the pressure in the delicate filtering system of the kidneys.\n",
            "\n",
            "Risk factors\n",
            "\n",
            "Your risk of diabetic nephropathy is greater if you have type 1 or type 2 diabetes. Several other factors may increase your risk of diabetic nephropathy, including:\n",
            "\n",
            "High blood sugar (hyperglycemia) that's not well-controlled\n",
            "\n",
            "High blood pressure (hypertension) that's not controlled\n",
            "\n",
            "Being a smoker\n",
            "\n",
            "High blood cholesterol\n",
            "\n",
            "A family history of diabetes and kidney disease\n",
            "\n",
            "Complications\n",
            "\n",
            "Complications of diabetic nephropathy may develop gradually over months or years. They may include:\n",
            "\n",
            "Fluid retention, which could lead to swelling in your arms and legs, high blood pressure, or fluid in your lungs (pulmonary edema)\n",
            "\n",
            "A rise in potassium levels in your blood (hyperkalemia)\n",
            "\n",
            "Heart and blood vessel disease (cardiovascular disease), possibly leading to stroke\n",
            "\n",
            "Damage to the blood vessels of the retina (diabetic retinopathy)\n",
            "\n",
            "Anemia\n",
            "\n",
            "Foot sores, erectile dysfunction, diarrhea and other problems related to damaged nerves and blood vessels\n",
            "\n",
            "Pregnancy complications that carry risks for the mother and the developing fetus\n",
            "\n",
            "Irreversible damage to your kidneys (end-stage kidney disease), eventually needing either dialysis or a kidney transplant for survival\n",
            "\n",
            "Prevention\n",
            "\n",
            "To reduce your risk of developing diabetic kidney disease:\n"
          ],
          "name": "stdout"
        }
      ]
    },
    {
      "cell_type": "code",
      "metadata": {
        "id": "bvsJYt9QRG00"
      },
      "source": [
        "#Tokenization\n",
        "text = corpus\n",
        "sentence_list = nltk.sent_tokenize(text) # A list of sentences\n"
      ],
      "execution_count": 9,
      "outputs": []
    },
    {
      "cell_type": "code",
      "metadata": {
        "id": "p0O-S3JEouYS",
        "colab": {
          "base_uri": "https://localhost:8080/"
        },
        "outputId": "721bcd00-e47b-49f6-bd72-d0c503e5a369"
      },
      "source": [
        "#Print the list of sentences\n",
        "print(sentence_list)"
      ],
      "execution_count": 10,
      "outputs": [
        {
          "output_type": "stream",
          "text": [
            "['Overview\\n\\nDiabetic nephropathy is a serious kidney-related complication of type 1 diabetes and type 2 diabetes.', 'It is also called diabetic kidney disease.', 'About 25% of people with diabetes eventually develop kidney disease.', \"Diabetic nephropathy affects your kidneys' ability to do their usual work of removing waste products and extra fluid from your body.\", 'The best way to prevent or delay diabetic nephropathy is by maintaining a healthy lifestyle and treating your diabetes and high blood pressure.', \"Over many years, the condition slowly damages your kidneys' delicate filtering system.\", \"Early treatment may prevent or slow the disease's progress and reduce the chance of complications.\", 'Your kidney disease may progress to kidney failure, also called end-stage kidney disease.', 'Kidney failure is a life-threatening condition.', 'At this stage your treatment options are dialysis or a kidney transplant.', 'How kidneys work\\n\\nSymptoms\\n\\nIn the early stages of diabetic nephropathy, you may not notice any signs or symptoms.', 'In later stages, the signs and symptoms include:\\n\\nWorsening blood pressure control\\n\\nProtein in the urine\\n\\nSwelling of feet, ankles, hands or eyes\\n\\nIncreased need to urinate\\n\\nReduced need for insulin or diabetes medicine\\n\\nConfusion or difficulty concentrating\\n\\nShortness of breath\\n\\nLoss of appetite\\n\\nNausea and vomiting\\n\\nPersistent itching\\n\\nFatigue\\n\\nWhen to see a doctor\\n\\nMake an appointment with your doctor if you have any signs or symptoms of kidney disease.', 'If you have diabetes, visit your doctor yearly for a urine test that detects protein and a test to check the creatinine level in your blood.', 'These help determine how well the kidneys are functioning.', 'Causes\\n\\nDiabetic nephropathy results when diabetes damages blood vessels and other cells in your kidneys.', 'How the kidneys work\\n\\nNormal kidney vs. diseased kidney Open pop-up dialog box Close Normal kidney vs. diseased kidney Normal kidney vs. diseased kidney A normal kidney has about 1 million filtering units.', 'Each unit, called a glomerulus, connects to a tubule, which collects urine.', 'Conditions such as high blood pressure and diabetes take a toll on kidney function by damaging these filtering units and collecting tubules and causing scarring.', 'Kidney cross section Open pop-up dialog box Close Kidney cross section Kidney cross section Blood enters your kidneys through your renal arteries.', 'Your kidneys remove excess fluid and waste material from your blood through units called nephrons.', 'Each nephron contains a filter (glomerulus) that has a network of tiny blood vessels called capillaries.', 'The glomeruli filter waste products and substances your body needs — such as sodium, phosphorus and potassium — which then pass through tiny tubules.', 'The substances your body needs are reabsorbed into your bloodstream.', 'The waste products flow through the ureters — the tubes that lead to the bladder.', 'Your kidneys contain millions of tiny blood vessel clusters (glomeruli) that filter waste from your blood.', 'Severe damage to these blood vessels can lead to diabetic nephropathy, decreased kidney function and kidney failure.', 'Diabetic nephropathy causes\\n\\nDiabetic nephropathy is a common complication of type 1 and type 2 diabetes.', 'Over time, poorly controlled diabetes can cause damage to blood vessel clusters in your kidneys that filter waste from your blood.', 'This can lead to kidney damage and cause high blood pressure.', 'High blood pressure can cause further kidney damage by increasing the pressure in the delicate filtering system of the kidneys.', 'Risk factors\\n\\nYour risk of diabetic nephropathy is greater if you have type 1 or type 2 diabetes.', \"Several other factors may increase your risk of diabetic nephropathy, including:\\n\\nHigh blood sugar (hyperglycemia) that's not well-controlled\\n\\nHigh blood pressure (hypertension) that's not controlled\\n\\nBeing a smoker\\n\\nHigh blood cholesterol\\n\\nA family history of diabetes and kidney disease\\n\\nComplications\\n\\nComplications of diabetic nephropathy may develop gradually over months or years.\", 'They may include:\\n\\nFluid retention, which could lead to swelling in your arms and legs, high blood pressure, or fluid in your lungs (pulmonary edema)\\n\\nA rise in potassium levels in your blood (hyperkalemia)\\n\\nHeart and blood vessel disease (cardiovascular disease), possibly leading to stroke\\n\\nDamage to the blood vessels of the retina (diabetic retinopathy)\\n\\nAnemia\\n\\nFoot sores, erectile dysfunction, diarrhea and other problems related to damaged nerves and blood vessels\\n\\nPregnancy complications that carry risks for the mother and the developing fetus\\n\\nIrreversible damage to your kidneys (end-stage kidney disease), eventually needing either dialysis or a kidney transplant for survival\\n\\nPrevention\\n\\nTo reduce your risk of developing diabetic kidney disease:']\n"
          ],
          "name": "stdout"
        }
      ]
    },
    {
      "cell_type": "code",
      "metadata": {
        "id": "dfoSAXF_RMm7"
      },
      "source": [
        "# A function to return a random greeting response to a user greeting\n",
        "def greeting_response(text):\n",
        "    text = text.lower()\n",
        "\n",
        "    #Bots greeting response\n",
        "    bot_greetings = ['hi','hello','hola','hey','howzit']\n",
        "\n",
        "    #User greeting\n",
        "    user_greetings = ['hi', 'hey', 'hello', 'hola', 'howzit']\n",
        "\n",
        "    for word in text.split():\n",
        "        if word in user_greetings:\n",
        "            return random.choice(bot_greetings)"
      ],
      "execution_count": 11,
      "outputs": []
    },
    {
      "cell_type": "code",
      "metadata": {
        "id": "8Yd5C375Rnuh"
      },
      "source": [
        "def index_sort(list_var):\n",
        "    length = len(list_var)\n",
        "    list_index = list(range(0, length))\n",
        "\n",
        "    x = list_var\n",
        "    for i in range(length):\n",
        "        for j in range(length):\n",
        "            if x[list_index[i]] > x[list_index[j]]:\n",
        "\n",
        "               #Swap\n",
        "               temp =  list_index[i]\n",
        "               list_index[i] = list_index[j]\n",
        "               list_index[j] = temp\n",
        "\n",
        "    return list_index\n"
      ],
      "execution_count": 12,
      "outputs": []
    },
    {
      "cell_type": "code",
      "metadata": {
        "id": "Xhr_ijNuRtkE"
      },
      "source": [
        "def greeting_response(text):\n",
        "    text = text.lower()\n",
        "\n",
        "    #Bots greeting response\n",
        "    bot_greetings = ['hi','hello','hola','hey','howzit']\n",
        "\n",
        "    #User greeting\n",
        "    user_greetings = ['hi', 'hey', 'hello', 'hola', 'howzit']\n",
        "\n",
        "    for word in text.split():\n",
        "        if word in user_greetings:\n",
        "            return random.choice(bot_greetings)"
      ],
      "execution_count": 13,
      "outputs": []
    },
    {
      "cell_type": "code",
      "metadata": {
        "id": "x4hmbLx7R0mb"
      },
      "source": [
        "def bot_response(user_input):\n",
        "    user_input = user_input.lower()\n",
        "    sentence_list.append(user_input)\n",
        "    bot_response = ''\n",
        "    cm = CountVectorizer().fit_transform(sentence_list)\n",
        "    similarity_scores = cosine_similarity(cm[-1], cm)\n",
        "    similarity_scores_list = similarity_scores.flatten()\n",
        "    index = index_sort(similarity_scores_list)\n",
        "    index = index[1:]\n",
        "    response_flag = 0\n",
        "\n",
        "    j = 0\n",
        "    for i in range(len(index)):\n",
        "        if similarity_scores_list[index[i]] > 0.0:\n",
        "            bot_response = bot_response+' '+sentence_list[index[i]]\n",
        "            response_flag = 1\n",
        "            j = j+1\n",
        "        if  j > 2:\n",
        "            break\n",
        "\n",
        "        if response_flag == 0:\n",
        "            bot_response = bot_response+' '+\"I apologize, I don't understand.\"\n",
        "\n",
        "        sentence_list.remove(user_input)\n",
        "        return bot_response\n",
        "\n"
      ],
      "execution_count": 14,
      "outputs": []
    },
    {
      "cell_type": "code",
      "metadata": {
        "id": "zEXYHKbYSFT2",
        "colab": {
          "base_uri": "https://localhost:8080/"
        },
        "outputId": "1588ebbf-1b3e-403d-e6fd-ee1352bdb90c"
      },
      "source": [
        "    #Start the chat\n",
        "    print(' Hi! call me DoctoRoboto. I will anwser your questions about Diabetic Nephropathy. If you want to exit, type bye')\n",
        "    exit_list = ['exit', 'see you later', 'bye', 'quit', 'break']\n",
        "\n",
        "    while(True):\n",
        "        user_input = input()\n",
        "        if user_input.lower() in exit_list:\n",
        "          print('Doctoroboto out!')\n",
        "          break\n",
        "        else:\n",
        "          if greeting_response(user_input) != None:\n",
        "            print('Doctoroboto: ' + greeting_response(user_input))\n",
        "          else:\n",
        "            print('Doctoroboto: ' +bot_response(user_input))\n",
        "\n",
        "\n",
        "\n"
      ],
      "execution_count": 16,
      "outputs": [
        {
          "output_type": "stream",
          "text": [
            " Hi! call me DoctoRoboto. I will anwser your questions about Diabetic Nephropathy. If you want to exit, type bye\n",
            "hi\n",
            "Doctoroboto: hi\n",
            "overview\n",
            "Doctoroboto:  Overview\n",
            "\n",
            "Diabetic nephropathy is a serious kidney-related complication of type 1 diabetes and type 2 diabetes.\n",
            "symptoms\n",
            "Doctoroboto:  How kidneys work\n",
            "\n",
            "Symptoms\n",
            "\n",
            "In the early stages of diabetic nephropathy, you may not notice any signs or symptoms.\n",
            "see doctor\n",
            "Doctoroboto:  In later stages, the signs and symptoms include:\n",
            "\n",
            "Worsening blood pressure control\n",
            "\n",
            "Protein in the urine\n",
            "\n",
            "Swelling of feet, ankles, hands or eyes\n",
            "\n",
            "Increased need to urinate\n",
            "\n",
            "Reduced need for insulin or diabetes medicine\n",
            "\n",
            "Confusion or difficulty concentrating\n",
            "\n",
            "Shortness of breath\n",
            "\n",
            "Loss of appetite\n",
            "\n",
            "Nausea and vomiting\n",
            "\n",
            "Persistent itching\n",
            "\n",
            "Fatigue\n",
            "\n",
            "When to see a doctor\n",
            "\n",
            "Make an appointment with your doctor if you have any signs or symptoms of kidney disease.\n",
            "causes\n",
            "Doctoroboto:  Causes\n",
            "\n",
            "Diabetic nephropathy results when diabetes damages blood vessels and other cells in your kidneys.\n",
            "risk factors\n",
            "Doctoroboto:  Risk factors\n",
            "\n",
            "Your risk of diabetic nephropathy is greater if you have type 1 or type 2 diabetes.\n",
            "bye\n",
            "Doctoroboto out!\n"
          ],
          "name": "stdout"
        }
      ]
    }
  ]
}